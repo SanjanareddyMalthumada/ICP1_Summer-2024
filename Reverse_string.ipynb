{
  "nbformat": 4,
  "nbformat_minor": 0,
  "metadata": {
    "colab": {
      "provenance": [],
      "authorship_tag": "ABX9TyODAhj1vWxZvr1TYiMoQO/s",
      "include_colab_link": true
    },
    "kernelspec": {
      "name": "python3",
      "display_name": "Python 3"
    },
    "language_info": {
      "name": "python"
    }
  },
  "cells": [
    {
      "cell_type": "markdown",
      "metadata": {
        "id": "view-in-github",
        "colab_type": "text"
      },
      "source": [
        "<a href=\"https://colab.research.google.com/github/SanjanareddyMalthumada/ICP1_Summer-2024/blob/main/Reverse_string.ipynb\" target=\"_parent\"><img src=\"https://colab.research.google.com/assets/colab-badge.svg\" alt=\"Open In Colab\"/></a>"
      ]
    },
    {
      "cell_type": "code",
      "execution_count": null,
      "metadata": {
        "colab": {
          "base_uri": "https://localhost:8080/"
        },
        "id": "3G3d3zWCD0nD",
        "outputId": "eaf04771-b2fd-474d-b316-bbaa6a0ee4c6"
      },
      "outputs": [
        {
          "output_type": "stream",
          "name": "stdout",
          "text": [
            "noht\n"
          ]
        }
      ],
      "source": [
        "input_string = \"python\"\n",
        "char_list = list(input_string)\n",
        "if len(char_list) >= 2:\n",
        "  del char_list[:2]\n",
        "char_list.reverse()\n",
        "\n",
        "reversed_string = ''.join(char_list)\n",
        "print( reversed_string)\n"
      ]
    },
    {
      "cell_type": "code",
      "source": [],
      "metadata": {
        "id": "jHIvBmrTZTWP"
      },
      "execution_count": null,
      "outputs": []
    }
  ]
}