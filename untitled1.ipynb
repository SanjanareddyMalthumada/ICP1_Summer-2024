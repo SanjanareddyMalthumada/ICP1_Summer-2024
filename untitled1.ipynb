{
  "nbformat": 4,
  "nbformat_minor": 0,
  "metadata": {
    "colab": {
      "provenance": [],
      "authorship_tag": "ABX9TyMexo3VYK8O1n1Nsoy0DvX3",
      "include_colab_link": true
    },
    "kernelspec": {
      "name": "python3",
      "display_name": "Python 3"
    },
    "language_info": {
      "name": "python"
    }
  },
  "cells": [
    {
      "cell_type": "markdown",
      "metadata": {
        "id": "view-in-github",
        "colab_type": "text"
      },
      "source": [
        "<a href=\"https://colab.research.google.com/github/SanjanareddyMalthumada/ICP1_Summer-2024/blob/main/untitled1.ipynb\" target=\"_parent\"><img src=\"https://colab.research.google.com/assets/colab-badge.svg\" alt=\"Open In Colab\"/></a>"
      ]
    },
    {
      "cell_type": "code",
      "execution_count": null,
      "metadata": {
        "colab": {
          "base_uri": "https://localhost:8080/"
        },
        "id": "3G3d3zWCD0nD",
        "outputId": "eaf04771-b2fd-474d-b316-bbaa6a0ee4c6"
      },
      "outputs": [
        {
          "output_type": "stream",
          "name": "stdout",
          "text": [
            "noht\n"
          ]
        }
      ],
      "source": [
        "input_string = \"python\"\n",
        "char_list = list(input_string)\n",
        "if len(char_list) >= 2:\n",
        "  del char_list[:2]\n",
        "char_list.reverse()\n",
        "\n",
        "reversed_string = ''.join(char_list)\n",
        "print( reversed_string)\n"
      ]
    },
    {
      "cell_type": "code",
      "source": [],
      "metadata": {
        "id": "jHIvBmrTZTWP"
      },
      "execution_count": null,
      "outputs": []
    },
    {
      "cell_type": "code",
      "source": [
        "i=int(input())\n",
        "j=int(input())\n",
        "print(i+j)\n",
        "print(i-j)\n",
        "print(i*j)\n",
        "print(i/j)"
      ],
      "metadata": {
        "colab": {
          "base_uri": "https://localhost:8080/"
        },
        "id": "YZwizb-4GVMg",
        "outputId": "b43568be-dbff-49fa-a7e3-709117bedb71"
      },
      "execution_count": null,
      "outputs": [
        {
          "output_type": "stream",
          "name": "stdout",
          "text": [
            "1\n",
            "2\n",
            "3\n",
            "-1\n",
            "2\n",
            "0.5\n"
          ]
        }
      ]
    },
    {
      "cell_type": "code",
      "source": [
        "sentence = input(\"Enter a sentence: \")\n",
        "modified_sentence = sentence.replace('python', 'pythons')\n",
        "print(\"Modified sentence:\", modified_sentence)"
      ],
      "metadata": {
        "colab": {
          "base_uri": "https://localhost:8080/"
        },
        "id": "aTicwF-PH3ef",
        "outputId": "1da6e8d8-af70-47af-ac77-fff2d621364b"
      },
      "execution_count": null,
      "outputs": [
        {
          "output_type": "stream",
          "name": "stdout",
          "text": [
            "Enter a sentence: I love python\n",
            "Modified sentence: I love pythons\n"
          ]
        }
      ]
    },
    {
      "cell_type": "code",
      "source": [
        "class_score = float(input(\"Enter the class score: \"))\n",
        "\n",
        "if class_score >= 95:\n",
        "    letter_grade = 'A'\n",
        "elif class_score >= 80:\n",
        "    letter_grade = 'B'\n",
        "elif class_score >= 70:\n",
        "    letter_grade = 'C'\n",
        "elif class_score >= 60:\n",
        "    letter_grade = 'D'\n",
        "else:\n",
        "    letter_grade = 'F'\n",
        "\n",
        "print(f\"The letter grade for {class_score} is: {letter_grade}\")"
      ],
      "metadata": {
        "colab": {
          "base_uri": "https://localhost:8080/"
        },
        "id": "2lntnyYqIYfq",
        "outputId": "17670587-f352-4b16-f34b-46ceb9c7c712"
      },
      "execution_count": null,
      "outputs": [
        {
          "output_type": "stream",
          "name": "stdout",
          "text": [
            "Enter the class score: 47\n",
            "The letter grade for 47.0 is: F\n"
          ]
        }
      ]
    }
  ]
}