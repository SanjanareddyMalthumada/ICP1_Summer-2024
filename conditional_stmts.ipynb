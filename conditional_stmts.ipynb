{
  "nbformat": 4,
  "nbformat_minor": 0,
  "metadata": {
    "colab": {
      "provenance": [],
      "authorship_tag": "ABX9TyOMolp2fI6ZdNvDhNmFSdyg",
      "include_colab_link": true
    },
    "kernelspec": {
      "name": "python3",
      "display_name": "Python 3"
    },
    "language_info": {
      "name": "python"
    }
  },
  "cells": [
    {
      "cell_type": "markdown",
      "metadata": {
        "id": "view-in-github",
        "colab_type": "text"
      },
      "source": [
        "<a href=\"https://colab.research.google.com/github/SanjanareddyMalthumada/ICP1_Summer-2024/blob/main/conditional_stmts.ipynb\" target=\"_parent\"><img src=\"https://colab.research.google.com/assets/colab-badge.svg\" alt=\"Open In Colab\"/></a>"
      ]
    },
    {
      "cell_type": "code",
      "source": [
        "class_score = float(input(\"Enter the class score: \"))\n",
        "\n",
        "if class_score >= 95:\n",
        "    letter_grade = 'A'\n",
        "elif class_score >= 80:\n",
        "    letter_grade = 'B'\n",
        "elif class_score >= 70:\n",
        "    letter_grade = 'C'\n",
        "elif class_score >= 60:\n",
        "    letter_grade = 'D'\n",
        "else:\n",
        "    letter_grade = 'F'\n",
        "\n",
        "print(f\"The letter grade for {class_score} is: {letter_grade}\")"
      ],
      "metadata": {
        "colab": {
          "base_uri": "https://localhost:8080/"
        },
        "id": "2lntnyYqIYfq",
        "outputId": "f02ce89d-f109-427f-d1ca-33f877bef652"
      },
      "execution_count": null,
      "outputs": [
        {
          "output_type": "stream",
          "name": "stdout",
          "text": [
            "Enter the class score: 90\n",
            "The letter grade for 90.0 is: B\n"
          ]
        }
      ]
    }
  ]
}